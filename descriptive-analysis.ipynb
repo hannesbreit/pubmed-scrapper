{
 "cells": [
  {
   "cell_type": "code",
   "execution_count": 1,
   "metadata": {},
   "outputs": [
    {
     "data": {
      "text/html": [
       "<div>\n",
       "<style scoped>\n",
       "    .dataframe tbody tr th:only-of-type {\n",
       "        vertical-align: middle;\n",
       "    }\n",
       "\n",
       "    .dataframe tbody tr th {\n",
       "        vertical-align: top;\n",
       "    }\n",
       "\n",
       "    .dataframe thead th {\n",
       "        text-align: right;\n",
       "    }\n",
       "</style>\n",
       "<table border=\"1\" class=\"dataframe\">\n",
       "  <thead>\n",
       "    <tr style=\"text-align: right;\">\n",
       "      <th></th>\n",
       "      <th>source</th>\n",
       "      <th>target</th>\n",
       "      <th>pmid</th>\n",
       "    </tr>\n",
       "  </thead>\n",
       "  <tbody>\n",
       "    <tr>\n",
       "      <th>0</th>\n",
       "      <td>A11.251.210</td>\n",
       "      <td>A11</td>\n",
       "      <td>6262670</td>\n",
       "    </tr>\n",
       "    <tr>\n",
       "      <th>1</th>\n",
       "      <td>A11.251.210</td>\n",
       "      <td>A11.251</td>\n",
       "      <td>6262670</td>\n",
       "    </tr>\n",
       "    <tr>\n",
       "      <th>2</th>\n",
       "      <td>A11.251.210</td>\n",
       "      <td>A11.251.210</td>\n",
       "      <td>6262670</td>\n",
       "    </tr>\n",
       "    <tr>\n",
       "      <th>3</th>\n",
       "      <td>A11.284.187</td>\n",
       "      <td>A11</td>\n",
       "      <td>6262670</td>\n",
       "    </tr>\n",
       "    <tr>\n",
       "      <th>4</th>\n",
       "      <td>A11.284.187</td>\n",
       "      <td>A11.284</td>\n",
       "      <td>6262670</td>\n",
       "    </tr>\n",
       "  </tbody>\n",
       "</table>\n",
       "</div>"
      ],
      "text/plain": [
       "        source       target     pmid\n",
       "0  A11.251.210          A11  6262670\n",
       "1  A11.251.210      A11.251  6262670\n",
       "2  A11.251.210  A11.251.210  6262670\n",
       "3  A11.284.187          A11  6262670\n",
       "4  A11.284.187      A11.284  6262670"
      ]
     },
     "execution_count": 1,
     "metadata": {},
     "output_type": "execute_result"
    }
   ],
   "source": [
    "# import csv to pandas dataframe\n",
    "import pandas as pd\n",
    "import numpy as np\n",
    "import matplotlib.pyplot as plt\n",
    "\n",
    "# read csv file delimited by semicolon and assign it to a pandas dataframe object called df\n",
    "df = pd.read_csv('gephi/a-b-c-d/GctbEdges.csv', sep=';')\n",
    "\n",
    "# print the first 5 rows of the dataframe\n",
    "df.head()\n",
    "\n",
    "\n"
   ]
  },
  {
   "cell_type": "code",
   "execution_count": 3,
   "metadata": {},
   "outputs": [
    {
     "data": {
      "text/html": [
       "<div>\n",
       "<style scoped>\n",
       "    .dataframe tbody tr th:only-of-type {\n",
       "        vertical-align: middle;\n",
       "    }\n",
       "\n",
       "    .dataframe tbody tr th {\n",
       "        vertical-align: top;\n",
       "    }\n",
       "\n",
       "    .dataframe thead th {\n",
       "        text-align: right;\n",
       "    }\n",
       "</style>\n",
       "<table border=\"1\" class=\"dataframe\">\n",
       "  <thead>\n",
       "    <tr style=\"text-align: right;\">\n",
       "      <th></th>\n",
       "      <th>type</th>\n",
       "      <th>count</th>\n",
       "    </tr>\n",
       "  </thead>\n",
       "  <tbody>\n",
       "    <tr>\n",
       "      <th>0</th>\n",
       "      <td>[A] Anatomy</td>\n",
       "      <td>17527</td>\n",
       "    </tr>\n",
       "    <tr>\n",
       "      <th>1</th>\n",
       "      <td>[B] Organisms</td>\n",
       "      <td>28109</td>\n",
       "    </tr>\n",
       "    <tr>\n",
       "      <th>2</th>\n",
       "      <td>[C] Diseases</td>\n",
       "      <td>69726</td>\n",
       "    </tr>\n",
       "    <tr>\n",
       "      <th>3</th>\n",
       "      <td>[D] Chemicals drugs</td>\n",
       "      <td>30738</td>\n",
       "    </tr>\n",
       "  </tbody>\n",
       "</table>\n",
       "</div>"
      ],
      "text/plain": [
       "                  type  count\n",
       "0          [A] Anatomy  17527\n",
       "1        [B] Organisms  28109\n",
       "2         [C] Diseases  69726\n",
       "3  [D] Chemicals drugs  30738"
      ]
     },
     "execution_count": 3,
     "metadata": {},
     "output_type": "execute_result"
    }
   ],
   "source": [
    "# count all values in the column 'source' which start with 'A' and assign it to a variable called anatomy_count\n",
    "Anatomy_count = df['source'].str.startswith('A').sum()\n",
    "# count all values in the column 'source' which start with 'B' and assign it to a variable called organisms_count\n",
    "Organisms_count = df['source'].str.startswith('B').sum()\n",
    "# count all values in the column 'source' which start with 'C' and assign it to a variable called diseases_count\n",
    "Diseases_count = df['source'].str.startswith('C').sum()\n",
    "# count all values in the column 'source' which start with 'D' and assign it to a variable called chemicals_drugs_count\n",
    "Chemicals_drugs_count = df['source'].str.startswith('D').sum()\n",
    "# # count all values in the column 'source' which start with 'E' and assign it to a variable called techniques_count\n",
    "# Techniques_count = df['source'].str.startswith('E').sum()\n",
    "# # count all values in the column 'source' which start with 'F' and assign it to a variable called psychology_count\n",
    "# Psychology_count = df['source'].str.startswith('F').sum()\n",
    "# # count all values in the column 'source' which start with 'G' and assign it to a variable called phenomena_processes_count\n",
    "# Phenomena_processes_count = df['source'].str.startswith('G').sum()\n",
    "# # count all values in the column 'source' which start with 'H' and assign it to a variable called disciplines_occupations_count\n",
    "# Disciplines_occupations_count = df['source'].str.startswith('H').sum()\n",
    "# # count all values in the column 'source' which start with 'I' and assign it to a variable called anthropology_count\n",
    "# Anthropology_count = df['source'].str.startswith('I').sum()\n",
    "# # count all values in the column 'source' which start with 'J' and assign it to a variable called technology_industry_count\n",
    "# Technology_industry_count = df['source'].str.startswith('J').sum()\n",
    "# # count all values in the column 'source' which start with 'K' and assign it to a variable called humanities_count\n",
    "# Humanities_count = df['source'].str.startswith('K').sum()\n",
    "# # count all values in the column 'source' which start with 'L' and assign it to a variable called information_science_count\n",
    "# Information_science_count = df['source'].str.startswith('L').sum()\n",
    "# # count all values in the column 'source' which start with 'M' and assign it to a variable called named_groups_count\n",
    "# Named_groups_count = df['source'].str.startswith('M').sum()\n",
    "# # count all values in the column 'source' which start with 'N' and assign it to a variable called health_care_count\n",
    "# Health_care_count = df['source'].str.startswith('N').sum()\n",
    "# # count all values in the column 'source' which start with 'V' and assign it to a variable called publication_characteristics_count\n",
    "# Publication_characteristics_count = df['source'].str.startswith('V').sum()\n",
    "# # count all values in the column 'source' which start with 'Z' and assign it to a variable called geographicals_count\n",
    "# Geographicals_count = df['source'].str.startswith('Z').sum()\n",
    "\n",
    "\n",
    "# create a datafram df2 with 2 columns describing the count of nodes and the type of node\n",
    "df2 = pd.DataFrame({'type': ['[A] Anatomy', '[B] Organisms', '[C] Diseases', '[D] Chemicals drugs'], 'count': [\n",
    "                   Anatomy_count, Organisms_count, Diseases_count, Chemicals_drugs_count]})\n",
    "\n",
    "# print first 5 rows of df2\n",
    "df2.head()"
   ]
  },
  {
   "cell_type": "code",
   "execution_count": 15,
   "metadata": {},
   "outputs": [
    {
     "ename": "KeyError",
     "evalue": "'MeSH-Tree-Zweig'",
     "output_type": "error",
     "traceback": [
      "\u001b[0;31m---------------------------------------------------------------------------\u001b[0m",
      "\u001b[0;31mKeyError\u001b[0m                                  Traceback (most recent call last)",
      "File \u001b[0;32m~/Desktop/pubmed-scrapper/venv/lib/python3.10/site-packages/pandas/core/indexes/base.py:3621\u001b[0m, in \u001b[0;36mIndex.get_loc\u001b[0;34m(self, key, method, tolerance)\u001b[0m\n\u001b[1;32m   3620\u001b[0m \u001b[39mtry\u001b[39;00m:\n\u001b[0;32m-> 3621\u001b[0m     \u001b[39mreturn\u001b[39;00m \u001b[39mself\u001b[39;49m\u001b[39m.\u001b[39;49m_engine\u001b[39m.\u001b[39;49mget_loc(casted_key)\n\u001b[1;32m   3622\u001b[0m \u001b[39mexcept\u001b[39;00m \u001b[39mKeyError\u001b[39;00m \u001b[39mas\u001b[39;00m err:\n",
      "File \u001b[0;32mpandas/_libs/index.pyx:136\u001b[0m, in \u001b[0;36mpandas._libs.index.IndexEngine.get_loc\u001b[0;34m()\u001b[0m\n",
      "File \u001b[0;32mpandas/_libs/index.pyx:163\u001b[0m, in \u001b[0;36mpandas._libs.index.IndexEngine.get_loc\u001b[0;34m()\u001b[0m\n",
      "File \u001b[0;32mpandas/_libs/hashtable_class_helper.pxi:5198\u001b[0m, in \u001b[0;36mpandas._libs.hashtable.PyObjectHashTable.get_item\u001b[0;34m()\u001b[0m\n",
      "File \u001b[0;32mpandas/_libs/hashtable_class_helper.pxi:5206\u001b[0m, in \u001b[0;36mpandas._libs.hashtable.PyObjectHashTable.get_item\u001b[0;34m()\u001b[0m\n",
      "\u001b[0;31mKeyError\u001b[0m: 'MeSH-Tree-Zweig'",
      "\nThe above exception was the direct cause of the following exception:\n",
      "\u001b[0;31mKeyError\u001b[0m                                  Traceback (most recent call last)",
      "Cell \u001b[0;32mIn [15], line 2\u001b[0m\n\u001b[1;32m      1\u001b[0m \u001b[39m# print barplot of the dataframe df2 with the type of node on the x-axis and the count of nodes on the y-axis\u001b[39;00m\n\u001b[0;32m----> 2\u001b[0m ax \u001b[39m=\u001b[39m df2\u001b[39m.\u001b[39mplot\u001b[39m.\u001b[39mbar(y\u001b[39m=\u001b[39m\u001b[39m'\u001b[39m\u001b[39mAnzahl Knoten\u001b[39m\u001b[39m'\u001b[39m, \n\u001b[1;32m      3\u001b[0m                     x\u001b[39m=\u001b[39m\u001b[39m'\u001b[39m\u001b[39mMeSH-Tree-Zweig\u001b[39m\u001b[39m'\u001b[39m,\n\u001b[1;32m      4\u001b[0m                     rot\u001b[39m=\u001b[39m\u001b[39m90\u001b[39m, fontsize\u001b[39m=\u001b[39m\u001b[39m14\u001b[39m, color\u001b[39m=\u001b[39m\u001b[39m'\u001b[39m\u001b[39mblue\u001b[39m\u001b[39m'\u001b[39m)\n\u001b[1;32m      5\u001b[0m ax\u001b[39m.\u001b[39mbar_label(ax\u001b[39m.\u001b[39mcontainers[\u001b[39m0\u001b[39m])\n\u001b[1;32m      7\u001b[0m ax\u001b[39m.\u001b[39mset_title(\u001b[39m'\u001b[39m\u001b[39mAnzahl Knoten pro Zweig\u001b[39m\u001b[39m'\u001b[39m, fontsize\u001b[39m=\u001b[39m\u001b[39m14\u001b[39m)\n",
      "File \u001b[0;32m~/Desktop/pubmed-scrapper/venv/lib/python3.10/site-packages/pandas/plotting/_core.py:1131\u001b[0m, in \u001b[0;36mPlotAccessor.bar\u001b[0;34m(self, x, y, **kwargs)\u001b[0m\n\u001b[1;32m   1043\u001b[0m \u001b[39m@Appender\u001b[39m(\n\u001b[1;32m   1044\u001b[0m     \u001b[39m\"\"\"\u001b[39;00m\n\u001b[1;32m   1045\u001b[0m \u001b[39m    See Also\u001b[39;00m\n\u001b[0;32m   (...)\u001b[0m\n\u001b[1;32m   1120\u001b[0m \u001b[39m@Appender\u001b[39m(_bar_or_line_doc)\n\u001b[1;32m   1121\u001b[0m \u001b[39mdef\u001b[39;00m \u001b[39mbar\u001b[39m(\u001b[39mself\u001b[39m, x\u001b[39m=\u001b[39m\u001b[39mNone\u001b[39;00m, y\u001b[39m=\u001b[39m\u001b[39mNone\u001b[39;00m, \u001b[39m*\u001b[39m\u001b[39m*\u001b[39mkwargs):\n\u001b[1;32m   1122\u001b[0m     \u001b[39m\"\"\"\u001b[39;00m\n\u001b[1;32m   1123\u001b[0m \u001b[39m    Vertical bar plot.\u001b[39;00m\n\u001b[1;32m   1124\u001b[0m \n\u001b[0;32m   (...)\u001b[0m\n\u001b[1;32m   1129\u001b[0m \u001b[39m    other axis represents a measured value.\u001b[39;00m\n\u001b[1;32m   1130\u001b[0m \u001b[39m    \"\"\"\u001b[39;00m\n\u001b[0;32m-> 1131\u001b[0m     \u001b[39mreturn\u001b[39;00m \u001b[39mself\u001b[39;49m(kind\u001b[39m=\u001b[39;49m\u001b[39m\"\u001b[39;49m\u001b[39mbar\u001b[39;49m\u001b[39m\"\u001b[39;49m, x\u001b[39m=\u001b[39;49mx, y\u001b[39m=\u001b[39;49my, \u001b[39m*\u001b[39;49m\u001b[39m*\u001b[39;49mkwargs)\n",
      "File \u001b[0;32m~/Desktop/pubmed-scrapper/venv/lib/python3.10/site-packages/pandas/plotting/_core.py:937\u001b[0m, in \u001b[0;36mPlotAccessor.__call__\u001b[0;34m(self, *args, **kwargs)\u001b[0m\n\u001b[1;32m    935\u001b[0m \u001b[39mif\u001b[39;00m is_integer(x) \u001b[39mand\u001b[39;00m \u001b[39mnot\u001b[39;00m data\u001b[39m.\u001b[39mcolumns\u001b[39m.\u001b[39mholds_integer():\n\u001b[1;32m    936\u001b[0m     x \u001b[39m=\u001b[39m data_cols[x]\n\u001b[0;32m--> 937\u001b[0m \u001b[39melif\u001b[39;00m \u001b[39mnot\u001b[39;00m \u001b[39misinstance\u001b[39m(data[x], ABCSeries):\n\u001b[1;32m    938\u001b[0m     \u001b[39mraise\u001b[39;00m \u001b[39mValueError\u001b[39;00m(\u001b[39m\"\u001b[39m\u001b[39mx must be a label or position\u001b[39m\u001b[39m\"\u001b[39m)\n\u001b[1;32m    939\u001b[0m data \u001b[39m=\u001b[39m data\u001b[39m.\u001b[39mset_index(x)\n",
      "File \u001b[0;32m~/Desktop/pubmed-scrapper/venv/lib/python3.10/site-packages/pandas/core/frame.py:3505\u001b[0m, in \u001b[0;36mDataFrame.__getitem__\u001b[0;34m(self, key)\u001b[0m\n\u001b[1;32m   3503\u001b[0m \u001b[39mif\u001b[39;00m \u001b[39mself\u001b[39m\u001b[39m.\u001b[39mcolumns\u001b[39m.\u001b[39mnlevels \u001b[39m>\u001b[39m \u001b[39m1\u001b[39m:\n\u001b[1;32m   3504\u001b[0m     \u001b[39mreturn\u001b[39;00m \u001b[39mself\u001b[39m\u001b[39m.\u001b[39m_getitem_multilevel(key)\n\u001b[0;32m-> 3505\u001b[0m indexer \u001b[39m=\u001b[39m \u001b[39mself\u001b[39;49m\u001b[39m.\u001b[39;49mcolumns\u001b[39m.\u001b[39;49mget_loc(key)\n\u001b[1;32m   3506\u001b[0m \u001b[39mif\u001b[39;00m is_integer(indexer):\n\u001b[1;32m   3507\u001b[0m     indexer \u001b[39m=\u001b[39m [indexer]\n",
      "File \u001b[0;32m~/Desktop/pubmed-scrapper/venv/lib/python3.10/site-packages/pandas/core/indexes/base.py:3623\u001b[0m, in \u001b[0;36mIndex.get_loc\u001b[0;34m(self, key, method, tolerance)\u001b[0m\n\u001b[1;32m   3621\u001b[0m     \u001b[39mreturn\u001b[39;00m \u001b[39mself\u001b[39m\u001b[39m.\u001b[39m_engine\u001b[39m.\u001b[39mget_loc(casted_key)\n\u001b[1;32m   3622\u001b[0m \u001b[39mexcept\u001b[39;00m \u001b[39mKeyError\u001b[39;00m \u001b[39mas\u001b[39;00m err:\n\u001b[0;32m-> 3623\u001b[0m     \u001b[39mraise\u001b[39;00m \u001b[39mKeyError\u001b[39;00m(key) \u001b[39mfrom\u001b[39;00m \u001b[39merr\u001b[39;00m\n\u001b[1;32m   3624\u001b[0m \u001b[39mexcept\u001b[39;00m \u001b[39mTypeError\u001b[39;00m:\n\u001b[1;32m   3625\u001b[0m     \u001b[39m# If we have a listlike key, _check_indexing_error will raise\u001b[39;00m\n\u001b[1;32m   3626\u001b[0m     \u001b[39m#  InvalidIndexError. Otherwise we fall through and re-raise\u001b[39;00m\n\u001b[1;32m   3627\u001b[0m     \u001b[39m#  the TypeError.\u001b[39;00m\n\u001b[1;32m   3628\u001b[0m     \u001b[39mself\u001b[39m\u001b[39m.\u001b[39m_check_indexing_error(key)\n",
      "\u001b[0;31mKeyError\u001b[0m: 'MeSH-Tree-Zweig'"
     ]
    }
   ],
   "source": [
    "# print barplot of the dataframe df2 with the type of node on the x-axis and the count of nodes on the y-axis\n",
    "ax = df2.plot.bar(y='count',x='type', rot=90, fontsize=14, colormap='Blues' )\n",
    "ax.bar_label(ax.containers[0])\n",
    "ax.set_xlabel('', fontsize=14)\n",
    "ax.set_ylabel('Anzahl Knoten', fontsize=14)\n",
    "ax.set_title('Anzahl Knoten pro Zweig', fontsize=14)\n"
   ]
  },
  {
   "cell_type": "code",
   "execution_count": 7,
   "metadata": {},
   "outputs": [
    {
     "data": {
      "text/html": [
       "<div>\n",
       "<style scoped>\n",
       "    .dataframe tbody tr th:only-of-type {\n",
       "        vertical-align: middle;\n",
       "    }\n",
       "\n",
       "    .dataframe tbody tr th {\n",
       "        vertical-align: top;\n",
       "    }\n",
       "\n",
       "    .dataframe thead th {\n",
       "        text-align: right;\n",
       "    }\n",
       "</style>\n",
       "<table border=\"1\" class=\"dataframe\">\n",
       "  <thead>\n",
       "    <tr style=\"text-align: right;\">\n",
       "      <th></th>\n",
       "      <th>source</th>\n",
       "      <th>target</th>\n",
       "      <th>pmid</th>\n",
       "    </tr>\n",
       "  </thead>\n",
       "  <tbody>\n",
       "    <tr>\n",
       "      <th>0</th>\n",
       "      <td>B01.050.150.900.649.313.988.400.112.400.400</td>\n",
       "      <td>B01</td>\n",
       "      <td>36320072</td>\n",
       "    </tr>\n",
       "    <tr>\n",
       "      <th>1</th>\n",
       "      <td>B01.050.150.900.649.313.988.400.112.400.400</td>\n",
       "      <td>B01.050</td>\n",
       "      <td>36320072</td>\n",
       "    </tr>\n",
       "    <tr>\n",
       "      <th>2</th>\n",
       "      <td>B01.050.150.900.649.313.988.400.112.400.400</td>\n",
       "      <td>B01.050.150</td>\n",
       "      <td>36320072</td>\n",
       "    </tr>\n",
       "    <tr>\n",
       "      <th>3</th>\n",
       "      <td>B01.050.150.900.649.313.988.400.112.400.400</td>\n",
       "      <td>B01.050.150.900</td>\n",
       "      <td>36320072</td>\n",
       "    </tr>\n",
       "    <tr>\n",
       "      <th>4</th>\n",
       "      <td>B01.050.150.900.649.313.988.400.112.400.400</td>\n",
       "      <td>B01.050.150.900.649</td>\n",
       "      <td>36320072</td>\n",
       "    </tr>\n",
       "  </tbody>\n",
       "</table>\n",
       "</div>"
      ],
      "text/plain": [
       "                                        source               target      pmid\n",
       "0  B01.050.150.900.649.313.988.400.112.400.400                  B01  36320072\n",
       "1  B01.050.150.900.649.313.988.400.112.400.400              B01.050  36320072\n",
       "2  B01.050.150.900.649.313.988.400.112.400.400          B01.050.150  36320072\n",
       "3  B01.050.150.900.649.313.988.400.112.400.400      B01.050.150.900  36320072\n",
       "4  B01.050.150.900.649.313.988.400.112.400.400  B01.050.150.900.649  36320072"
      ]
     },
     "execution_count": 7,
     "metadata": {},
     "output_type": "execute_result"
    }
   ],
   "source": [
    "# import csv to pandas dataframe\n",
    "import pandas as pd\n",
    "import numpy as np\n",
    "import matplotlib.pyplot as plt\n",
    "\n",
    "# read csv file delimited by semicolon and assign it to a pandas dataframe object called df\n",
    "df = pd.read_csv('gephi/a-b-c-d/OsteosarcomaEdges.csv', sep=';')\n",
    "\n",
    "# print the first 5 rows of the dataframe\n",
    "df.head()\n"
   ]
  },
  {
   "cell_type": "code",
   "execution_count": 8,
   "metadata": {},
   "outputs": [
    {
     "data": {
      "text/html": [
       "<div>\n",
       "<style scoped>\n",
       "    .dataframe tbody tr th:only-of-type {\n",
       "        vertical-align: middle;\n",
       "    }\n",
       "\n",
       "    .dataframe tbody tr th {\n",
       "        vertical-align: top;\n",
       "    }\n",
       "\n",
       "    .dataframe thead th {\n",
       "        text-align: right;\n",
       "    }\n",
       "</style>\n",
       "<table border=\"1\" class=\"dataframe\">\n",
       "  <thead>\n",
       "    <tr style=\"text-align: right;\">\n",
       "      <th></th>\n",
       "      <th>type</th>\n",
       "      <th>count</th>\n",
       "    </tr>\n",
       "  </thead>\n",
       "  <tbody>\n",
       "    <tr>\n",
       "      <th>0</th>\n",
       "      <td>[A] Anatomy</td>\n",
       "      <td>40911</td>\n",
       "    </tr>\n",
       "    <tr>\n",
       "      <th>1</th>\n",
       "      <td>[B] Organisms</td>\n",
       "      <td>97303</td>\n",
       "    </tr>\n",
       "    <tr>\n",
       "      <th>2</th>\n",
       "      <td>[C] Diseases</td>\n",
       "      <td>130415</td>\n",
       "    </tr>\n",
       "    <tr>\n",
       "      <th>3</th>\n",
       "      <td>[D] Chemicals drugs</td>\n",
       "      <td>168175</td>\n",
       "    </tr>\n",
       "  </tbody>\n",
       "</table>\n",
       "</div>"
      ],
      "text/plain": [
       "                  type   count\n",
       "0          [A] Anatomy   40911\n",
       "1        [B] Organisms   97303\n",
       "2         [C] Diseases  130415\n",
       "3  [D] Chemicals drugs  168175"
      ]
     },
     "execution_count": 8,
     "metadata": {},
     "output_type": "execute_result"
    }
   ],
   "source": [
    "# count all values in the column 'source' which start with 'A' and assign it to a variable called anatomy_count\n",
    "Anatomy_count = df['source'].str.startswith('A').sum()\n",
    "# count all values in the column 'source' which start with 'B' and assign it to a variable called organisms_count\n",
    "Organisms_count = df['source'].str.startswith('B').sum()\n",
    "# count all values in the column 'source' which start with 'C' and assign it to a variable called diseases_count\n",
    "Diseases_count = df['source'].str.startswith('C').sum()\n",
    "# count all values in the column 'source' which start with 'D' and assign it to a variable called chemicals_drugs_count\n",
    "Chemicals_drugs_count = df['source'].str.startswith('D').sum()\n",
    "# # count all values in the column 'source' which start with 'E' and assign it to a variable called techniques_count\n",
    "# Techniques_count = df['source'].str.startswith('E').sum()\n",
    "# # count all values in the column 'source' which start with 'F' and assign it to a variable called psychology_count\n",
    "# Psychology_count = df['source'].str.startswith('F').sum()\n",
    "# # count all values in the column 'source' which start with 'G' and assign it to a variable called phenomena_processes_count\n",
    "# Phenomena_processes_count = df['source'].str.startswith('G').sum()\n",
    "# # count all values in the column 'source' which start with 'H' and assign it to a variable called disciplines_occupations_count\n",
    "# Disciplines_occupations_count = df['source'].str.startswith('H').sum()\n",
    "# # count all values in the column 'source' which start with 'I' and assign it to a variable called anthropology_count\n",
    "# Anthropology_count = df['source'].str.startswith('I').sum()\n",
    "# # count all values in the column 'source' which start with 'J' and assign it to a variable called technology_industry_count\n",
    "# Technology_industry_count = df['source'].str.startswith('J').sum()\n",
    "# # count all values in the column 'source' which start with 'K' and assign it to a variable called humanities_count\n",
    "# Humanities_count = df['source'].str.startswith('K').sum()\n",
    "# # count all values in the column 'source' which start with 'L' and assign it to a variable called information_science_count\n",
    "# Information_science_count = df['source'].str.startswith('L').sum()\n",
    "# # count all values in the column 'source' which start with 'M' and assign it to a variable called named_groups_count\n",
    "# Named_groups_count = df['source'].str.startswith('M').sum()\n",
    "# # count all values in the column 'source' which start with 'N' and assign it to a variable called health_care_count\n",
    "# Health_care_count = df['source'].str.startswith('N').sum()\n",
    "# # count all values in the column 'source' which start with 'V' and assign it to a variable called publication_characteristics_count\n",
    "# Publication_characteristics_count = df['source'].str.startswith('V').sum()\n",
    "# # count all values in the column 'source' which start with 'Z' and assign it to a variable called geographicals_count\n",
    "# Geographicals_count = df['source'].str.startswith('Z').sum()\n",
    "\n",
    "\n",
    "# create a datafram df2 with 2 columns describing the count of nodes and the type of node\n",
    "df2 = pd.DataFrame({'type': ['[A] Anatomy', '[B] Organisms', '[C] Diseases', '[D] Chemicals drugs'], 'count': [\n",
    "                   Anatomy_count, Organisms_count, Diseases_count, Chemicals_drugs_count]})\n",
    "\n",
    "# print first 5 rows of df2\n",
    "df2.head()"
   ]
  },
  {
   "cell_type": "code",
   "execution_count": 9,
   "metadata": {},
   "outputs": [
    {
     "data": {
      "text/plain": [
       "[Text(0, 0, '40911'),\n",
       " Text(0, 0, '97303'),\n",
       " Text(0, 0, '130415'),\n",
       " Text(0, 0, '168175')]"
      ]
     },
     "execution_count": 9,
     "metadata": {},
     "output_type": "execute_result"
    },
    {
     "data": {
      "image/png": "[encoded data removed]",
      "text/plain": [
       "<Figure size 640x480 with 1 Axes>"
      ]
     },
     "metadata": {},
     "output_type": "display_data"
    }
   ],
   "source": [
    "# print barplot of the dataframe df2 with the type of node on the x-axis and the count of nodes on the y-axis\n",
    "ax = df2.plot.bar(y='count', x='type', rot=90, fontsize=14, color='blue')\n",
    "ax.bar_label(ax.containers[0])\n"
   ]
  },
  {
   "cell_type": "code",
   "execution_count": 83,
   "metadata": {},
   "outputs": [
    {
     "data": {
      "text/html": [
       "<div>\n",
       "<style scoped>\n",
       "    .dataframe tbody tr th:only-of-type {\n",
       "        vertical-align: middle;\n",
       "    }\n",
       "\n",
       "    .dataframe tbody tr th {\n",
       "        vertical-align: top;\n",
       "    }\n",
       "\n",
       "    .dataframe thead th {\n",
       "        text-align: right;\n",
       "    }\n",
       "</style>\n",
       "<table border=\"1\" class=\"dataframe\">\n",
       "  <thead>\n",
       "    <tr style=\"text-align: right;\">\n",
       "      <th></th>\n",
       "      <th>source</th>\n",
       "    </tr>\n",
       "    <tr>\n",
       "      <th>target</th>\n",
       "      <th></th>\n",
       "    </tr>\n",
       "  </thead>\n",
       "  <tbody>\n",
       "    <tr>\n",
       "      <th>A01</th>\n",
       "      <td>297</td>\n",
       "    </tr>\n",
       "    <tr>\n",
       "      <th>A02</th>\n",
       "      <td>1858</td>\n",
       "    </tr>\n",
       "    <tr>\n",
       "      <th>A03</th>\n",
       "      <td>10</td>\n",
       "    </tr>\n",
       "    <tr>\n",
       "      <th>A04</th>\n",
       "      <td>27</td>\n",
       "    </tr>\n",
       "    <tr>\n",
       "      <th>A05</th>\n",
       "      <td>15</td>\n",
       "    </tr>\n",
       "  </tbody>\n",
       "</table>\n",
       "</div>"
      ],
      "text/plain": [
       "        source\n",
       "target        \n",
       "A01        297\n",
       "A02       1858\n",
       "A03         10\n",
       "A04         27\n",
       "A05         15"
      ]
     },
     "execution_count": 83,
     "metadata": {},
     "output_type": "execute_result"
    }
   ],
   "source": [
    "# filter the dataframe df for all entries exactly from beginning with A and followed by two digits and is only 3 characters long and count the number of entries for each type of source node \n",
    "regex = r'^A\\d{2}$'\n",
    "df_filter_A = df.drop(columns=['pmid'])[df['target'].str.match(regex)].groupby('target').count().sort_values(by='target', ascending=True)\n",
    "df_filter_A.head()"
   ]
  },
  {
   "cell_type": "code",
   "execution_count": 87,
   "metadata": {},
   "outputs": [
    {
     "data": {
      "text/plain": [
       "[Text(0, 0, '297'),\n",
       " Text(0, 0, '1858'),\n",
       " Text(0, 0, '10'),\n",
       " Text(0, 0, '27'),\n",
       " Text(0, 0, '15'),\n",
       " Text(0, 0, '8'),\n",
       " Text(0, 0, '26'),\n",
       " Text(0, 0, '39'),\n",
       " Text(0, 0, '6'),\n",
       " Text(0, 0, '220'),\n",
       " Text(0, 0, '1199'),\n",
       " Text(0, 0, '8'),\n",
       " Text(0, 0, '10'),\n",
       " Text(0, 0, '37'),\n",
       " Text(0, 0, '247'),\n",
       " Text(0, 0, '23'),\n",
       " Text(0, 0, '3'),\n",
       " Text(0, 0, '1')]"
      ]
     },
     "execution_count": 87,
     "metadata": {},
     "output_type": "execute_result"
    },
    {
     "data": {
      "image/png": "[encoded data removed]",
      "text/plain": [
       "<Figure size 640x480 with 1 Axes>"
      ]
     },
     "metadata": {},
     "output_type": "display_data"
    }
   ],
   "source": [
    "# bar plot of the filtered dataframe df_filter_A\n",
    "ax = df_filter_A.plot.bar()\n",
    "ax.bar_label(ax.containers[0])\n"
   ]
  },
  {
   "cell_type": "code",
   "execution_count": 88,
   "metadata": {},
   "outputs": [
    {
     "data": {
      "text/html": [
       "<div>\n",
       "<style scoped>\n",
       "    .dataframe tbody tr th:only-of-type {\n",
       "        vertical-align: middle;\n",
       "    }\n",
       "\n",
       "    .dataframe tbody tr th {\n",
       "        vertical-align: top;\n",
       "    }\n",
       "\n",
       "    .dataframe thead th {\n",
       "        text-align: right;\n",
       "    }\n",
       "</style>\n",
       "<table border=\"1\" class=\"dataframe\">\n",
       "  <thead>\n",
       "    <tr style=\"text-align: right;\">\n",
       "      <th></th>\n",
       "      <th>source</th>\n",
       "    </tr>\n",
       "    <tr>\n",
       "      <th>target</th>\n",
       "      <th></th>\n",
       "    </tr>\n",
       "  </thead>\n",
       "  <tbody>\n",
       "    <tr>\n",
       "      <th>B01</th>\n",
       "      <td>2708</td>\n",
       "    </tr>\n",
       "    <tr>\n",
       "      <th>B03</th>\n",
       "      <td>10</td>\n",
       "    </tr>\n",
       "    <tr>\n",
       "      <th>B04</th>\n",
       "      <td>7</td>\n",
       "    </tr>\n",
       "  </tbody>\n",
       "</table>\n",
       "</div>"
      ],
      "text/plain": [
       "        source\n",
       "target        \n",
       "B01       2708\n",
       "B03         10\n",
       "B04          7"
      ]
     },
     "execution_count": 88,
     "metadata": {},
     "output_type": "execute_result"
    }
   ],
   "source": [
    "# filter the dataframe df for all entries exactly from beginning with B and followed by two digits and is only 3 characters long and count the number of entries for each type of source node\n",
    "regex = r'^B\\d{2}$'\n",
    "df_filter_B = df.drop(columns=['pmid'])[df['target'].str.match(regex)].groupby(\n",
    "    'target').count().sort_values(by='target', ascending=True)\n",
    "df_filter_B.head()\n"
   ]
  },
  {
   "cell_type": "code",
   "execution_count": 91,
   "metadata": {},
   "outputs": [
    {
     "data": {
      "text/plain": [
       "[Text(0, 0, '2708'), Text(0, 0, '10'), Text(0, 0, '7')]"
      ]
     },
     "execution_count": 91,
     "metadata": {},
     "output_type": "execute_result"
    },
    {
     "data": {
      "image/png": "[encoded data removed]",
      "text/plain": [
       "<Figure size 640x480 with 1 Axes>"
      ]
     },
     "metadata": {},
     "output_type": "display_data"
    }
   ],
   "source": [
    "# bar plot of the filtered dataframe df_filter_B\n",
    "ax = df_filter_B.plot.bar()\n",
    "ax.bar_label(ax.containers[0])\n"
   ]
  },
  {
   "cell_type": "code",
   "execution_count": 93,
   "metadata": {},
   "outputs": [
    {
     "data": {
      "text/html": [
       "<div>\n",
       "<style scoped>\n",
       "    .dataframe tbody tr th:only-of-type {\n",
       "        vertical-align: middle;\n",
       "    }\n",
       "\n",
       "    .dataframe tbody tr th {\n",
       "        vertical-align: top;\n",
       "    }\n",
       "\n",
       "    .dataframe thead th {\n",
       "        text-align: right;\n",
       "    }\n",
       "</style>\n",
       "<table border=\"1\" class=\"dataframe\">\n",
       "  <thead>\n",
       "    <tr style=\"text-align: right;\">\n",
       "      <th></th>\n",
       "      <th>source</th>\n",
       "    </tr>\n",
       "    <tr>\n",
       "      <th>target</th>\n",
       "      <th></th>\n",
       "    </tr>\n",
       "  </thead>\n",
       "  <tbody>\n",
       "    <tr>\n",
       "      <th>C01</th>\n",
       "      <td>62</td>\n",
       "    </tr>\n",
       "    <tr>\n",
       "      <th>C04</th>\n",
       "      <td>9881</td>\n",
       "    </tr>\n",
       "    <tr>\n",
       "      <th>C05</th>\n",
       "      <td>3392</td>\n",
       "    </tr>\n",
       "    <tr>\n",
       "      <th>C06</th>\n",
       "      <td>74</td>\n",
       "    </tr>\n",
       "    <tr>\n",
       "      <th>C07</th>\n",
       "      <td>341</td>\n",
       "    </tr>\n",
       "  </tbody>\n",
       "</table>\n",
       "</div>"
      ],
      "text/plain": [
       "        source\n",
       "target        \n",
       "C01         62\n",
       "C04       9881\n",
       "C05       3392\n",
       "C06         74\n",
       "C07        341"
      ]
     },
     "execution_count": 93,
     "metadata": {},
     "output_type": "execute_result"
    }
   ],
   "source": [
    "# filter the dataframe df for all entries exactly from beginning with C and followed by two digits and is only 3 characters long and count the number of entries for each type of source node\n",
    "regex = r'^C\\d{2}$'\n",
    "df_filter_C = df.drop(columns=['pmid'])[df['target'].str.match(regex)].groupby(\n",
    "    'target').count().sort_values(by='target', ascending=True)\n",
    "df_filter_C.head()\n"
   ]
  },
  {
   "cell_type": "code",
   "execution_count": 94,
   "metadata": {},
   "outputs": [
    {
     "data": {
      "text/plain": [
       "[Text(0, 0, '62'),\n",
       " Text(0, 0, '9881'),\n",
       " Text(0, 0, '3392'),\n",
       " Text(0, 0, '74'),\n",
       " Text(0, 0, '341'),\n",
       " Text(0, 0, '339'),\n",
       " Text(0, 0, '51'),\n",
       " Text(0, 0, '114'),\n",
       " Text(0, 0, '23'),\n",
       " Text(0, 0, '221'),\n",
       " Text(0, 0, '43'),\n",
       " Text(0, 0, '75'),\n",
       " Text(0, 0, '51'),\n",
       " Text(0, 0, '73'),\n",
       " Text(0, 0, '65'),\n",
       " Text(0, 0, '142'),\n",
       " Text(0, 0, '54'),\n",
       " Text(0, 0, '13'),\n",
       " Text(0, 0, '1183'),\n",
       " Text(0, 0, '1'),\n",
       " Text(0, 0, '3'),\n",
       " Text(0, 0, '193')]"
      ]
     },
     "execution_count": 94,
     "metadata": {},
     "output_type": "execute_result"
    },
    {
     "data": {
      "image/png": "[encoded data removed]",
      "text/plain": [
       "<Figure size 640x480 with 1 Axes>"
      ]
     },
     "metadata": {},
     "output_type": "display_data"
    }
   ],
   "source": [
    "# bar plot of the filtered dataframe df_filter_C\n",
    "ax = df_filter_C.plot.bar()\n",
    "ax.bar_label(ax.containers[0])\n"
   ]
  },
  {
   "cell_type": "code",
   "execution_count": 95,
   "metadata": {},
   "outputs": [
    {
     "data": {
      "text/html": [
       "<div>\n",
       "<style scoped>\n",
       "    .dataframe tbody tr th:only-of-type {\n",
       "        vertical-align: middle;\n",
       "    }\n",
       "\n",
       "    .dataframe tbody tr th {\n",
       "        vertical-align: top;\n",
       "    }\n",
       "\n",
       "    .dataframe thead th {\n",
       "        text-align: right;\n",
       "    }\n",
       "</style>\n",
       "<table border=\"1\" class=\"dataframe\">\n",
       "  <thead>\n",
       "    <tr style=\"text-align: right;\">\n",
       "      <th></th>\n",
       "      <th>source</th>\n",
       "    </tr>\n",
       "    <tr>\n",
       "      <th>target</th>\n",
       "      <th></th>\n",
       "    </tr>\n",
       "  </thead>\n",
       "  <tbody>\n",
       "    <tr>\n",
       "      <th>D01</th>\n",
       "      <td>254</td>\n",
       "    </tr>\n",
       "    <tr>\n",
       "      <th>D02</th>\n",
       "      <td>281</td>\n",
       "    </tr>\n",
       "    <tr>\n",
       "      <th>D03</th>\n",
       "      <td>103</td>\n",
       "    </tr>\n",
       "    <tr>\n",
       "      <th>D04</th>\n",
       "      <td>65</td>\n",
       "    </tr>\n",
       "    <tr>\n",
       "      <th>D05</th>\n",
       "      <td>107</td>\n",
       "    </tr>\n",
       "  </tbody>\n",
       "</table>\n",
       "</div>"
      ],
      "text/plain": [
       "        source\n",
       "target        \n",
       "D01        254\n",
       "D02        281\n",
       "D03        103\n",
       "D04         65\n",
       "D05        107"
      ]
     },
     "execution_count": 95,
     "metadata": {},
     "output_type": "execute_result"
    }
   ],
   "source": [
    "# filter the dataframe df for all entries exactly from beginning with D and followed by two digits and is only 3 characters long and count the number of entries for each type of source node\n",
    "regex = r'^D\\d{2}$'\n",
    "df_filter_D = df.drop(columns=['pmid'])[df['target'].str.match(regex)].groupby(\n",
    "    'target').count().sort_values(by='target', ascending=True)\n",
    "df_filter_D.head()\n"
   ]
  },
  {
   "cell_type": "code",
   "execution_count": 96,
   "metadata": {},
   "outputs": [
    {
     "data": {
      "text/plain": [
       "[Text(0, 0, '254'),\n",
       " Text(0, 0, '281'),\n",
       " Text(0, 0, '103'),\n",
       " Text(0, 0, '65'),\n",
       " Text(0, 0, '107'),\n",
       " Text(0, 0, '45'),\n",
       " Text(0, 0, '545'),\n",
       " Text(0, 0, '57'),\n",
       " Text(0, 0, '25'),\n",
       " Text(0, 0, '2956'),\n",
       " Text(0, 0, '214'),\n",
       " Text(0, 0, '1'),\n",
       " Text(0, 0, '697'),\n",
       " Text(0, 0, '85'),\n",
       " Text(0, 0, '3'),\n",
       " Text(0, 0, '38')]"
      ]
     },
     "execution_count": 96,
     "metadata": {},
     "output_type": "execute_result"
    },
    {
     "data": {
      "image/png": "[encoded data removed]",
      "text/plain": [
       "<Figure size 640x480 with 1 Axes>"
      ]
     },
     "metadata": {},
     "output_type": "display_data"
    }
   ],
   "source": [
    "# bar plot of the filtered dataframe df_filter_C\n",
    "ax = df_filter_D.plot.bar()\n",
    "ax.bar_label(ax.containers[0])\n"
   ]
  },
  {
   "cell_type": "code",
   "execution_count": null,
   "metadata": {},
   "outputs": [],
   "source": []
  }
 ],
 "metadata": {
  "kernelspec": {
   "display_name": "Python 3.10.1 ('venv': venv)",
   "language": "python",
   "name": "python3"
  },
  "language_info": {
   "codemirror_mode": {
    "name": "ipython",
    "version": 3
   },
   "file_extension": ".py",
   "mimetype": "text/x-python",
   "name": "python",
   "nbconvert_exporter": "python",
   "pygments_lexer": "ipython3",
   "version": "3.10.1"
  },
  "orig_nbformat": 4,
  "vscode": {
   "interpreter": {
    "hash": "d2a09b3d280b49cce092a685a18b9b9e69612227036797283834c04ff3c56c34"
   }
  }
 },
 "nbformat": 4,
 "nbformat_minor": 2
}
